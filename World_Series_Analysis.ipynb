{
 "cells": [
  {
   "cell_type": "markdown",
   "id": "095280a9",
   "metadata": {},
   "source": [
    "# Analyzing World Series Victories\n",
    "\n",
    "<img src=\"https://upload.wikimedia.org/wikipedia/commons/4/49/1903_World_Series_-_Boston_Americans.jpg\" width=400px>"
   ]
  },
  {
   "cell_type": "markdown",
   "id": "0ec36310-5b6e-4352-8cb0-8d3c7ecef46d",
   "metadata": {},
   "source": [
    "### We need to import some libraries to perform our analysis"
   ]
  },
  {
   "cell_type": "code",
   "execution_count": null,
   "id": "bf170ff5",
   "metadata": {
    "collapsed": false,
    "jupyter": {
     "outputs_hidden": false
    }
   },
   "outputs": [],
   "source": [
    "import pandas as pd\n",
    "from scipy.special import binom\n",
    "import matplotlib.pyplot as plt\n",
    "import numpy as np\n",
    "\n",
    "red,lime,blue,green,purple = \"#CF5970\",\"#94B848\",\"#878CC0\",\"#5EBAA1\",\"#BD5DC7\"\n",
    "%config InlineBackend.figure_formats = ['svg']"
   ]
  },
  {
   "cell_type": "markdown",
   "id": "95d7773d-7509-4db3-8afe-e0a710555e3f",
   "metadata": {},
   "source": [
    "## Take a peak at the World Series Data"
   ]
  },
  {
   "cell_type": "code",
   "execution_count": null,
   "id": "e2c5a7f5",
   "metadata": {
    "collapsed": false,
    "jupyter": {
     "outputs_hidden": false
    }
   },
   "outputs": [],
   "source": [
    "ws = pd.read_csv('world_series_data.csv')\n",
    "ws.tail(10)"
   ]
  },
  {
   "cell_type": "markdown",
   "id": "4e929698",
   "metadata": {},
   "source": [
    "## Distribution of wins by team: American League"
   ]
  },
  {
   "cell_type": "code",
   "execution_count": null,
   "id": "090432d4",
   "metadata": {
    "collapsed": false,
    "jupyter": {
     "outputs_hidden": false
    }
   },
   "outputs": [],
   "source": [
    "plt.figure(figsize=(10,5))\n",
    "h = ws[\"American League Team\"].value_counts().plot.bar(color=red)\n",
    "h.set_ylabel('World Series Appearances')\n",
    "h.set_title('American League')"
   ]
  },
  {
   "cell_type": "markdown",
   "id": "f08e10ac",
   "metadata": {},
   "source": [
    "## Distribution of wins by team: National League"
   ]
  },
  {
   "cell_type": "code",
   "execution_count": null,
   "id": "f9f9de5d",
   "metadata": {
    "collapsed": false,
    "jupyter": {
     "outputs_hidden": false
    }
   },
   "outputs": [],
   "source": [
    "plt.figure(figsize=(10,5))\n",
    "h = ws[\"National League Team\"].value_counts().plot.bar(color=blue)\n",
    "h.set_ylabel('World Series Appearances')\n",
    "h.set_title('National League')"
   ]
  },
  {
   "cell_type": "markdown",
   "id": "59ec8eba",
   "metadata": {},
   "source": [
    "## Are teams from one league better than the other?\n",
    "\n",
    "The *probability of winning* based on the available data is given by:\n",
    "\n",
    "\\begin{equation}\n",
    "P(\\text{League Win}) = \\frac{\\text{Num. of Wins}}{\\text{Total Num. Games}}\n",
    "\\end{equation}"
   ]
  },
  {
   "cell_type": "code",
   "execution_count": null,
   "id": "9f15fd0b",
   "metadata": {
    "collapsed": false,
    "jupyter": {
     "outputs_hidden": false
    }
   },
   "outputs": [],
   "source": [
    "total_number_games = ws[\"Total Games\"].sum()\n",
    "al_wins = ws[\"AL Wins\"].sum()\n",
    "nl_wins = ws[\"NL Wins\"].sum()\n",
    "\n",
    "print(f'AL Win Probability: {100*al_wins/total_number_games:.2f}%')\n",
    "print(f'NL Win Probability: {100*nl_wins/total_number_games:.2f}%')"
   ]
  },
  {
   "cell_type": "markdown",
   "id": "e7daa2d8",
   "metadata": {},
   "source": [
    "Remember, probability is the likliehood **on average** of a given outcome occuring."
   ]
  },
  {
   "cell_type": "markdown",
   "id": "5a70105d",
   "metadata": {},
   "source": [
    "### It seems that the American League is slightly better.  Any ideas why?"
   ]
  },
  {
   "cell_type": "markdown",
   "id": "133edc3f",
   "metadata": {},
   "source": [
    "## What is the probability of each World Series outcome?\n",
    "\n",
    "In a *best of seven* series there are 4 possible outcomes:\n",
    "\n",
    "* 4-0 (sweep)\n",
    "* 4-1\n",
    "* 4-2\n",
    "* 4-3\n",
    "\n",
    "These correspond to 4, 5, 6, and 7 games respectively.\n",
    "\n",
    "Each of these outcomes could happen in 2 distinct ways if we neglect ordering, *i.e.* either the American League or National Team could win the world series. \n",
    "\n",
    "We can quantify this by counting how may times each of the oucomes appears and dividing by the total number of series. The result is called a **probability histogram**"
   ]
  },
  {
   "cell_type": "code",
   "execution_count": null,
   "id": "7e8b44fd",
   "metadata": {
    "collapsed": false,
    "jupyter": {
     "outputs_hidden": false
    }
   },
   "outputs": [],
   "source": [
    "plt.figure(figsize=(10,5))\n",
    "h = ws['Total Games'].hist(range=[4,7],bins=[4,5,6,7,8],align='left',rwidth=0.9, density=True, color=green)\n",
    "plt.xticks(np.arange(4,8), ('4-0', '4-1', '4-2', '4-3') )\n",
    "\n",
    "# add a title to the current figure, our histogram\n",
    "h.set_title(\"Outcome of World Series\")\n",
    "h.set_xlabel(\"Series Score\")\n",
    "h.set_ylabel(\"Probability\")\n",
    "\n",
    "# record the data for future plotting\n",
    "ws_actual,binEdges = np.histogram(ws['Total Games'],bins=4, density=True)\n",
    "ws_actual_prob = pd.Series(ws_actual, index=['4-0','4-1','4-2','4-3'], name='World Series')"
   ]
  },
  {
   "cell_type": "markdown",
   "id": "bd8617ff",
   "metadata": {
    "slideshow": {
     "slide_type": "-"
    }
   },
   "source": [
    "## Questions\n",
    " * Can we undertsand this distribution?\n",
    " * Why do most series go to the full 7 games?\n",
    " * Why is 4-0 (a sweep) the most unlikely outcome?"
   ]
  },
  {
   "cell_type": "markdown",
   "id": "010deca1-d3cb-4eb2-8a55-4f9db29a5a26",
   "metadata": {},
   "source": [
    "## Let's simplify this problem and analyze/collect our own data for a *model* system\n",
    "\n",
    "### Activity: Odds-n-Evens\n",
    "\n",
    " 1. Get into groups of 3 (2 active players 1 umpire)\n",
    " 2. There are 3 possible *series* per group \n",
    " 3. For each series, decide who is American League (**EVENS**) and who is National League (**ODDS**)\n",
    " 3. Play **best 4 out of 7** games of O/E. \n",
    " 5. The umpire needs to record (1) the **winner (A or N)** and (2) the **length** of the series (4, 5, 6, or 7 games).\n",
    " "
   ]
  },
  {
   "cell_type": "code",
   "execution_count": null,
   "id": "340e9ef0-4be9-407a-bcec-420796e2c05a",
   "metadata": {},
   "outputs": [],
   "source": [
    "oe_game_lengths = [4]\n",
    "oe_game_winners = ['E']\n",
    "\n",
    "data = {'Series Length':oe_game_lengths, 'Winners':oe_game_winners}\n",
    "odds_evens = pd.DataFrame(data)"
   ]
  },
  {
   "cell_type": "code",
   "execution_count": null,
   "id": "79b5404d-e29c-40a2-a591-5e3cf60eb1a9",
   "metadata": {},
   "outputs": [],
   "source": [
    "plt.figure(figsize=(10,5))\n",
    "h = odds_evens['Series Length'].hist(range=[4,7],bins=[4,5,6,7,8],align='left',rwidth=0.9, density=True, color=green)\n",
    "plt.xticks(np.arange(4,8), ('4-0', '4-1', '4-2', '4-3') )\n",
    "\n",
    "h.set_title(\"Outcome of Odds/Evens Series\")\n",
    "h.set_xlabel(\"Series Score\")\n",
    "h.set_ylabel(\"Probability\")\n",
    "\n",
    "# Record the probabilities\n",
    "oe_actual,binEdges = np.histogram(odds_evens['Series Length'],bins=4, density=True)\n",
    "oe_actual_prob = pd.Series(oe_actual, index=['4-0','4-1','4-2','4-3'], name='Odds & Evens')"
   ]
  },
  {
   "cell_type": "code",
   "execution_count": null,
   "id": "d9d07ae2-16eb-4cb6-be6d-f6819fc3f225",
   "metadata": {},
   "outputs": [],
   "source": [
    "print(oe_actual_prob,'\\n')\n",
    "print(ws_actual_prob)"
   ]
  },
  {
   "cell_type": "markdown",
   "id": "dab54ef9-7615-45f5-a4fc-122ceba9a8b3",
   "metadata": {},
   "source": [
    "### Is there anything special about the American vs. National League in our Data?"
   ]
  },
  {
   "cell_type": "code",
   "execution_count": null,
   "id": "1eef87cd-3c0a-4f50-90c2-bcb15553b9ef",
   "metadata": {},
   "outputs": [],
   "source": [
    "h = odds_evens['Winners'].value_counts().plot.bar(color=blue,xlabel='League', ylabel='Number of Wins')"
   ]
  },
  {
   "cell_type": "markdown",
   "id": "bb5ef1aa-7a6b-4160-b34b-2950b8735064",
   "metadata": {},
   "source": [
    "## Question: How can we compute the probability and see if it agrees with our experiment?\n",
    "\n",
    "<!--\n",
    "**Answer**: First enumerate the number of outcomes in each case:\n",
    "  * 4-0: AAAA, NNNN\n",
    "  * 4-1: NAAAA, ANAAA, AANAA, AAANA -- One party needs to win **at most** 1 out of the first 4 games\n",
    "-->"
   ]
  },
  {
   "cell_type": "markdown",
   "id": "0af3683c",
   "metadata": {},
   "source": [
    "## We can write code to enumerate these for us!"
   ]
  },
  {
   "cell_type": "code",
   "execution_count": null,
   "id": "a12881f3",
   "metadata": {
    "collapsed": false,
    "jupyter": {
     "outputs_hidden": false
    }
   },
   "outputs": [],
   "source": [
    "import itertools as it\n",
    "outcome,prob,combos = {},{},{}"
   ]
  },
  {
   "cell_type": "markdown",
   "id": "5a8d5938",
   "metadata": {},
   "source": [
    "### 4-0 Sweep"
   ]
  },
  {
   "cell_type": "code",
   "execution_count": null,
   "id": "07d01e13",
   "metadata": {
    "collapsed": false,
    "jupyter": {
     "outputs_hidden": false
    }
   },
   "outputs": [],
   "source": [
    "outcome['4-0'] = [\"AAAA\",\"NNNN\"]"
   ]
  },
  {
   "cell_type": "markdown",
   "id": "5020c862",
   "metadata": {},
   "source": [
    "### 4-1"
   ]
  },
  {
   "cell_type": "code",
   "execution_count": null,
   "id": "648be4d7",
   "metadata": {
    "collapsed": false,
    "jupyter": {
     "outputs_hidden": false
    }
   },
   "outputs": [],
   "source": [
    "# AL wins 4-1\n",
    "score = set(it.permutations(\"AAAN\"))\n",
    "outcome['4-1'] = [ \"\".join(c) + \"A\" for c in score]\n",
    "\n",
    "# NL wins 4-1\n",
    "score = set(it.permutations(\"NNNA\"))\n",
    "outcome['4-1'] += [ \"\".join(c) + \"N\" for c in score]"
   ]
  },
  {
   "cell_type": "markdown",
   "id": "2457bdd8",
   "metadata": {},
   "source": [
    "### 4-2"
   ]
  },
  {
   "cell_type": "code",
   "execution_count": null,
   "id": "2a5de1ac",
   "metadata": {
    "collapsed": false,
    "jupyter": {
     "outputs_hidden": false
    }
   },
   "outputs": [],
   "source": [
    "# AL wins 4-2\n",
    "score = set(it.permutations(\"AAANN\"))\n",
    "outcome['4-2'] = [ \"\".join(c) + \"A\" for c in score]\n",
    "\n",
    "# NL wins 4-2\n",
    "score = set(it.permutations(\"NNNAA\"))\n",
    "outcome['4-2'] += [ \"\".join(c) + \"N\" for c in score]"
   ]
  },
  {
   "cell_type": "markdown",
   "id": "6fce5747",
   "metadata": {},
   "source": [
    "### 4-3"
   ]
  },
  {
   "cell_type": "code",
   "execution_count": null,
   "id": "74aa85d0",
   "metadata": {
    "collapsed": false,
    "jupyter": {
     "outputs_hidden": false
    }
   },
   "outputs": [],
   "source": [
    "# AL wins 4-3\n",
    "score = set(it.permutations(\"AAANNN\"))\n",
    "outcome['4-3'] = [ \"\".join(c) + \"A\" for c in score]\n",
    "\n",
    "# NL wins 4-3\n",
    "score = set(it.permutations(\"NNNAAA\"))\n",
    "outcome['4-3'] += [ \"\".join(c) + \"N\" for c in score]"
   ]
  },
  {
   "cell_type": "markdown",
   "id": "2aca3b27",
   "metadata": {},
   "source": [
    "## Now let's determine the probabilities\n",
    "\n",
    " * We have to remember that the probability to win a single game is equal to 1/2\n",
    " * Therefore, the probability of given outcome is equal to the number of ways for that score to happen, divided by: $2^{\\text{number of games}}$"
   ]
  },
  {
   "cell_type": "markdown",
   "id": "25b55461",
   "metadata": {},
   "source": [
    "### List all the posibile combinations"
   ]
  },
  {
   "cell_type": "code",
   "execution_count": null,
   "id": "88db7110",
   "metadata": {
    "collapsed": false,
    "jupyter": {
     "outputs_hidden": false
    }
   },
   "outputs": [],
   "source": [
    "for score,out in outcome.items():\n",
    "    combos[score] = pd.DataFrame({score:out})"
   ]
  },
  {
   "cell_type": "code",
   "execution_count": null,
   "id": "e6e83cdd",
   "metadata": {
    "collapsed": false,
    "jupyter": {
     "outputs_hidden": false
    }
   },
   "outputs": [],
   "source": [
    "combos['4-0']"
   ]
  },
  {
   "cell_type": "code",
   "execution_count": null,
   "id": "626efcaa",
   "metadata": {
    "collapsed": false,
    "jupyter": {
     "outputs_hidden": false
    }
   },
   "outputs": [],
   "source": [
    "combos['4-1']"
   ]
  },
  {
   "cell_type": "code",
   "execution_count": null,
   "id": "3e606622",
   "metadata": {
    "collapsed": false,
    "jupyter": {
     "outputs_hidden": false
    }
   },
   "outputs": [],
   "source": [
    "combos['4-2']"
   ]
  },
  {
   "cell_type": "code",
   "execution_count": null,
   "id": "66273b2c",
   "metadata": {
    "collapsed": false,
    "jupyter": {
     "outputs_hidden": false
    }
   },
   "outputs": [],
   "source": [
    "combos['4-3']"
   ]
  },
  {
   "cell_type": "markdown",
   "id": "21823371",
   "metadata": {},
   "source": [
    "### To determine the probability:\n",
    "\n",
    "$$ \\text{Prob(outcome)} = \\frac{\\text{number outcomes}}{2^{\\text{number games}}} $$"
   ]
  },
  {
   "cell_type": "code",
   "execution_count": null,
   "id": "52ea56c6",
   "metadata": {
    "collapsed": false,
    "jupyter": {
     "outputs_hidden": false
    }
   },
   "outputs": [],
   "source": [
    "for score,out in outcome.items():\n",
    "    prob[score] = 1.0*len(out)/(2**(len(out[0])))\n",
    "exact_prob = pd.Series(prob, name='Exact Prob.')"
   ]
  },
  {
   "cell_type": "markdown",
   "id": "a3ea813b",
   "metadata": {},
   "source": [
    "### Let's compare the exact probability we have measured, with the observed"
   ]
  },
  {
   "cell_type": "code",
   "execution_count": null,
   "id": "47a3c3d4",
   "metadata": {
    "collapsed": false,
    "jupyter": {
     "outputs_hidden": false
    }
   },
   "outputs": [],
   "source": [
    "exact_prob"
   ]
  },
  {
   "cell_type": "code",
   "execution_count": null,
   "id": "ce165e8f",
   "metadata": {
    "collapsed": false,
    "jupyter": {
     "outputs_hidden": false
    }
   },
   "outputs": [],
   "source": [
    "ws_actual_prob"
   ]
  },
  {
   "cell_type": "code",
   "execution_count": null,
   "id": "78ab7e56-188d-4cd7-927b-cfd5e87b4352",
   "metadata": {},
   "outputs": [],
   "source": [
    "oe_actual_prob"
   ]
  },
  {
   "cell_type": "markdown",
   "id": "56665514",
   "metadata": {},
   "source": [
    "### These look pretty close, let's compare on a plot"
   ]
  },
  {
   "cell_type": "code",
   "execution_count": null,
   "id": "d12f664f",
   "metadata": {
    "collapsed": false,
    "jupyter": {
     "outputs_hidden": false
    }
   },
   "outputs": [],
   "source": [
    "plt.figure(figsize=(10,5))\n",
    "exact_prob.plot.bar(alpha=1, color=red, label='Exact', width=0.25, position=0.5)\n",
    "ws_actual_prob.plot.bar(alpha=0.75, color=green, label='World Series', width=0.25, position=0)\n",
    "oe_actual_prob.plot.bar(alpha=0.75, color=blue, label='Odds/Evens',width=0.25, position=1)\n",
    "\n",
    "plt.title(\"Outcome of World Series\")\n",
    "plt.xlabel(\"Game Score\")\n",
    "plt.ylabel(\"Probability\")\n",
    "plt.legend(loc='upper left', fontsize=15)"
   ]
  },
  {
   "cell_type": "markdown",
   "id": "ceb58ca7",
   "metadata": {},
   "source": [
    "# Success!"
   ]
  },
  {
   "cell_type": "markdown",
   "id": "461707ec",
   "metadata": {},
   "source": [
    "### It turns out, this is an example of the binomial probability distribution for the special case where each of the two outcomes is equally likely.\n",
    "\n",
    "The binomial distribution is the discrete probability distribution of the number of successes in a sequence of n independent yes/no experiments, each of which yields success with probability p.\n",
    "\n",
    "See more: http://en.wikipedia.org/wiki/Binomial_distribution"
   ]
  },
  {
   "cell_type": "markdown",
   "id": "0adb7803",
   "metadata": {},
   "source": [
    "$$P_b(n,k) = \\binom{n}{k} \\frac{1}{2^n}$$"
   ]
  },
  {
   "cell_type": "markdown",
   "id": "fd86ee6e",
   "metadata": {},
   "source": [
    "Let's try to reproduce our previous calculation.  In our case, we will use the binomial probability for the first $n-1$ games of a $n$ game series, then multiply by $1/2$ the probability of our team winning the final game and finally, multiply the whole thing by $2$ as we don't care whether the AL or NL wins.  Thus, our probability is:\n",
    "\n",
    "$$P(a,0) = P_b(a,0) \\times 2 $$\n",
    "$$P(a,b>0) = P_b(a+b-1,3) \\times \\frac{1}{2} \\times 2 $$"
   ]
  },
  {
   "cell_type": "code",
   "execution_count": null,
   "id": "49f2ac98",
   "metadata": {
    "collapsed": false,
    "jupyter": {
     "outputs_hidden": false
    }
   },
   "outputs": [],
   "source": [
    "def P(a,b):\n",
    "    ''' The probability for a series outcome a-b. '''\n",
    "    if b == 0:\n",
    "        return (binom(a,b)/2**a) * 2\n",
    "    else:\n",
    "        return binom(a+b-1,3)/2**(a+b-1)"
   ]
  },
  {
   "cell_type": "code",
   "execution_count": null,
   "id": "3edac596",
   "metadata": {
    "collapsed": false,
    "jupyter": {
     "outputs_hidden": false
    }
   },
   "outputs": [],
   "source": [
    "exact_prob"
   ]
  },
  {
   "cell_type": "code",
   "execution_count": null,
   "id": "c8f41f42",
   "metadata": {
    "collapsed": false,
    "jupyter": {
     "outputs_hidden": false
    }
   },
   "outputs": [],
   "source": [
    "for b in range(4):\n",
    "    print (f'P(4-{b}) = {P(4,b)}')"
   ]
  },
  {
   "cell_type": "code",
   "execution_count": null,
   "id": "64d8dcca-46d3-4666-a1d6-0a5137f3cf91",
   "metadata": {},
   "outputs": [],
   "source": [
    "import scipy,matplotlib\n",
    "print(np.__version__)\n",
    "print(scipy.__version__)\n",
    "print(pd.__version__)\n",
    "print(matplotlib.__version__)"
   ]
  }
 ],
 "metadata": {
  "kernelspec": {
   "display_name": "Python 3 (ipykernel)",
   "language": "python",
   "name": "python3"
  },
  "language_info": {
   "codemirror_mode": {
    "name": "ipython",
    "version": 3
   },
   "file_extension": ".py",
   "mimetype": "text/x-python",
   "name": "python",
   "nbconvert_exporter": "python",
   "pygments_lexer": "ipython3",
   "version": "3.9.6"
  }
 },
 "nbformat": 4,
 "nbformat_minor": 5
}
